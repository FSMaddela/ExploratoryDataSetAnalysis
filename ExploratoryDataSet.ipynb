{
 "cells": [
  {
   "cell_type": "markdown",
   "id": "55a686a2-1175-47ff-bac6-78b7f4049154",
   "metadata": {},
   "source": [
    "# EXPLORATORY DATA ANALYSIS ON SPOTIFY 2023 DATA SET"
   ]
  },
  {
   "cell_type": "code",
   "execution_count": 8,
   "id": "e9ddd77d-91b6-412f-b828-566aefa9b099",
   "metadata": {},
   "outputs": [],
   "source": [
    "import pandas as pd\n",
    "\n",
    "spotify = pd.read_csv('spotify-2023.csv')"
   ]
  },
  {
   "cell_type": "markdown",
   "id": "f7705d21-4fd3-4bdb-90ec-99ee98e71414",
   "metadata": {},
   "source": [
    "# Data Overview"
   ]
  },
  {
   "cell_type": "code",
   "execution_count": 28,
   "id": "89d2203f-1f60-4044-8168-813a0fe5657e",
   "metadata": {},
   "outputs": [
    {
     "data": {
      "text/html": [
       "<div>\n",
       "<style scoped>\n",
       "    .dataframe tbody tr th:only-of-type {\n",
       "        vertical-align: middle;\n",
       "    }\n",
       "\n",
       "    .dataframe tbody tr th {\n",
       "        vertical-align: top;\n",
       "    }\n",
       "\n",
       "    .dataframe thead th {\n",
       "        text-align: right;\n",
       "    }\n",
       "</style>\n",
       "<table border=\"1\" class=\"dataframe\">\n",
       "  <thead>\n",
       "    <tr style=\"text-align: right;\">\n",
       "      <th></th>\n",
       "      <th>track_name</th>\n",
       "      <th>artist(s)_name</th>\n",
       "      <th>artist_count</th>\n",
       "      <th>released_year</th>\n",
       "      <th>released_month</th>\n",
       "      <th>released_day</th>\n",
       "      <th>in_spotify_playlists</th>\n",
       "      <th>in_spotify_charts</th>\n",
       "      <th>streams</th>\n",
       "      <th>in_apple_playlists</th>\n",
       "      <th>...</th>\n",
       "      <th>bpm</th>\n",
       "      <th>key</th>\n",
       "      <th>mode</th>\n",
       "      <th>danceability_%</th>\n",
       "      <th>valence_%</th>\n",
       "      <th>energy_%</th>\n",
       "      <th>acousticness_%</th>\n",
       "      <th>instrumentalness_%</th>\n",
       "      <th>liveness_%</th>\n",
       "      <th>speechiness_%</th>\n",
       "    </tr>\n",
       "  </thead>\n",
       "  <tbody>\n",
       "    <tr>\n",
       "      <th>0</th>\n",
       "      <td>Seven (feat. Latto) (Explicit Ver.)</td>\n",
       "      <td>Latto, Jung Kook</td>\n",
       "      <td>2</td>\n",
       "      <td>2023</td>\n",
       "      <td>7</td>\n",
       "      <td>14</td>\n",
       "      <td>553</td>\n",
       "      <td>147</td>\n",
       "      <td>141381703</td>\n",
       "      <td>43</td>\n",
       "      <td>...</td>\n",
       "      <td>125</td>\n",
       "      <td>B</td>\n",
       "      <td>Major</td>\n",
       "      <td>80</td>\n",
       "      <td>89</td>\n",
       "      <td>83</td>\n",
       "      <td>31</td>\n",
       "      <td>0</td>\n",
       "      <td>8</td>\n",
       "      <td>4</td>\n",
       "    </tr>\n",
       "    <tr>\n",
       "      <th>1</th>\n",
       "      <td>LALA</td>\n",
       "      <td>Myke Towers</td>\n",
       "      <td>1</td>\n",
       "      <td>2023</td>\n",
       "      <td>3</td>\n",
       "      <td>23</td>\n",
       "      <td>1474</td>\n",
       "      <td>48</td>\n",
       "      <td>133716286</td>\n",
       "      <td>48</td>\n",
       "      <td>...</td>\n",
       "      <td>92</td>\n",
       "      <td>C#</td>\n",
       "      <td>Major</td>\n",
       "      <td>71</td>\n",
       "      <td>61</td>\n",
       "      <td>74</td>\n",
       "      <td>7</td>\n",
       "      <td>0</td>\n",
       "      <td>10</td>\n",
       "      <td>4</td>\n",
       "    </tr>\n",
       "    <tr>\n",
       "      <th>2</th>\n",
       "      <td>vampire</td>\n",
       "      <td>Olivia Rodrigo</td>\n",
       "      <td>1</td>\n",
       "      <td>2023</td>\n",
       "      <td>6</td>\n",
       "      <td>30</td>\n",
       "      <td>1397</td>\n",
       "      <td>113</td>\n",
       "      <td>140003974</td>\n",
       "      <td>94</td>\n",
       "      <td>...</td>\n",
       "      <td>138</td>\n",
       "      <td>F</td>\n",
       "      <td>Major</td>\n",
       "      <td>51</td>\n",
       "      <td>32</td>\n",
       "      <td>53</td>\n",
       "      <td>17</td>\n",
       "      <td>0</td>\n",
       "      <td>31</td>\n",
       "      <td>6</td>\n",
       "    </tr>\n",
       "    <tr>\n",
       "      <th>3</th>\n",
       "      <td>Cruel Summer</td>\n",
       "      <td>Taylor Swift</td>\n",
       "      <td>1</td>\n",
       "      <td>2019</td>\n",
       "      <td>8</td>\n",
       "      <td>23</td>\n",
       "      <td>7858</td>\n",
       "      <td>100</td>\n",
       "      <td>800840817</td>\n",
       "      <td>116</td>\n",
       "      <td>...</td>\n",
       "      <td>170</td>\n",
       "      <td>A</td>\n",
       "      <td>Major</td>\n",
       "      <td>55</td>\n",
       "      <td>58</td>\n",
       "      <td>72</td>\n",
       "      <td>11</td>\n",
       "      <td>0</td>\n",
       "      <td>11</td>\n",
       "      <td>15</td>\n",
       "    </tr>\n",
       "    <tr>\n",
       "      <th>4</th>\n",
       "      <td>WHERE SHE GOES</td>\n",
       "      <td>Bad Bunny</td>\n",
       "      <td>1</td>\n",
       "      <td>2023</td>\n",
       "      <td>5</td>\n",
       "      <td>18</td>\n",
       "      <td>3133</td>\n",
       "      <td>50</td>\n",
       "      <td>303236322</td>\n",
       "      <td>84</td>\n",
       "      <td>...</td>\n",
       "      <td>144</td>\n",
       "      <td>A</td>\n",
       "      <td>Minor</td>\n",
       "      <td>65</td>\n",
       "      <td>23</td>\n",
       "      <td>80</td>\n",
       "      <td>14</td>\n",
       "      <td>63</td>\n",
       "      <td>11</td>\n",
       "      <td>6</td>\n",
       "    </tr>\n",
       "    <tr>\n",
       "      <th>...</th>\n",
       "      <td>...</td>\n",
       "      <td>...</td>\n",
       "      <td>...</td>\n",
       "      <td>...</td>\n",
       "      <td>...</td>\n",
       "      <td>...</td>\n",
       "      <td>...</td>\n",
       "      <td>...</td>\n",
       "      <td>...</td>\n",
       "      <td>...</td>\n",
       "      <td>...</td>\n",
       "      <td>...</td>\n",
       "      <td>...</td>\n",
       "      <td>...</td>\n",
       "      <td>...</td>\n",
       "      <td>...</td>\n",
       "      <td>...</td>\n",
       "      <td>...</td>\n",
       "      <td>...</td>\n",
       "      <td>...</td>\n",
       "      <td>...</td>\n",
       "    </tr>\n",
       "    <tr>\n",
       "      <th>948</th>\n",
       "      <td>My Mind &amp; Me</td>\n",
       "      <td>Selena Gomez</td>\n",
       "      <td>1</td>\n",
       "      <td>2022</td>\n",
       "      <td>11</td>\n",
       "      <td>3</td>\n",
       "      <td>953</td>\n",
       "      <td>0</td>\n",
       "      <td>91473363</td>\n",
       "      <td>61</td>\n",
       "      <td>...</td>\n",
       "      <td>144</td>\n",
       "      <td>A</td>\n",
       "      <td>Major</td>\n",
       "      <td>60</td>\n",
       "      <td>24</td>\n",
       "      <td>39</td>\n",
       "      <td>57</td>\n",
       "      <td>0</td>\n",
       "      <td>8</td>\n",
       "      <td>3</td>\n",
       "    </tr>\n",
       "    <tr>\n",
       "      <th>949</th>\n",
       "      <td>Bigger Than The Whole Sky</td>\n",
       "      <td>Taylor Swift</td>\n",
       "      <td>1</td>\n",
       "      <td>2022</td>\n",
       "      <td>10</td>\n",
       "      <td>21</td>\n",
       "      <td>1180</td>\n",
       "      <td>0</td>\n",
       "      <td>121871870</td>\n",
       "      <td>4</td>\n",
       "      <td>...</td>\n",
       "      <td>166</td>\n",
       "      <td>F#</td>\n",
       "      <td>Major</td>\n",
       "      <td>42</td>\n",
       "      <td>7</td>\n",
       "      <td>24</td>\n",
       "      <td>83</td>\n",
       "      <td>1</td>\n",
       "      <td>12</td>\n",
       "      <td>6</td>\n",
       "    </tr>\n",
       "    <tr>\n",
       "      <th>950</th>\n",
       "      <td>A Veces (feat. Feid)</td>\n",
       "      <td>Feid, Paulo Londra</td>\n",
       "      <td>2</td>\n",
       "      <td>2022</td>\n",
       "      <td>11</td>\n",
       "      <td>3</td>\n",
       "      <td>573</td>\n",
       "      <td>0</td>\n",
       "      <td>73513683</td>\n",
       "      <td>2</td>\n",
       "      <td>...</td>\n",
       "      <td>92</td>\n",
       "      <td>C#</td>\n",
       "      <td>Major</td>\n",
       "      <td>80</td>\n",
       "      <td>81</td>\n",
       "      <td>67</td>\n",
       "      <td>4</td>\n",
       "      <td>0</td>\n",
       "      <td>8</td>\n",
       "      <td>6</td>\n",
       "    </tr>\n",
       "    <tr>\n",
       "      <th>951</th>\n",
       "      <td>En La De Ella</td>\n",
       "      <td>Feid, Sech, Jhayco</td>\n",
       "      <td>3</td>\n",
       "      <td>2022</td>\n",
       "      <td>10</td>\n",
       "      <td>20</td>\n",
       "      <td>1320</td>\n",
       "      <td>0</td>\n",
       "      <td>133895612</td>\n",
       "      <td>29</td>\n",
       "      <td>...</td>\n",
       "      <td>97</td>\n",
       "      <td>C#</td>\n",
       "      <td>Major</td>\n",
       "      <td>82</td>\n",
       "      <td>67</td>\n",
       "      <td>77</td>\n",
       "      <td>8</td>\n",
       "      <td>0</td>\n",
       "      <td>12</td>\n",
       "      <td>5</td>\n",
       "    </tr>\n",
       "    <tr>\n",
       "      <th>952</th>\n",
       "      <td>Alone</td>\n",
       "      <td>Burna Boy</td>\n",
       "      <td>1</td>\n",
       "      <td>2022</td>\n",
       "      <td>11</td>\n",
       "      <td>4</td>\n",
       "      <td>782</td>\n",
       "      <td>2</td>\n",
       "      <td>96007391</td>\n",
       "      <td>27</td>\n",
       "      <td>...</td>\n",
       "      <td>90</td>\n",
       "      <td>E</td>\n",
       "      <td>Minor</td>\n",
       "      <td>61</td>\n",
       "      <td>32</td>\n",
       "      <td>67</td>\n",
       "      <td>15</td>\n",
       "      <td>0</td>\n",
       "      <td>11</td>\n",
       "      <td>5</td>\n",
       "    </tr>\n",
       "  </tbody>\n",
       "</table>\n",
       "<p>953 rows × 24 columns</p>\n",
       "</div>"
      ],
      "text/plain": [
       "                              track_name      artist(s)_name  artist_count  \\\n",
       "0    Seven (feat. Latto) (Explicit Ver.)    Latto, Jung Kook             2   \n",
       "1                                   LALA         Myke Towers             1   \n",
       "2                                vampire      Olivia Rodrigo             1   \n",
       "3                           Cruel Summer        Taylor Swift             1   \n",
       "4                         WHERE SHE GOES           Bad Bunny             1   \n",
       "..                                   ...                 ...           ...   \n",
       "948                         My Mind & Me        Selena Gomez             1   \n",
       "949            Bigger Than The Whole Sky        Taylor Swift             1   \n",
       "950                 A Veces (feat. Feid)  Feid, Paulo Londra             2   \n",
       "951                        En La De Ella  Feid, Sech, Jhayco             3   \n",
       "952                                Alone           Burna Boy             1   \n",
       "\n",
       "     released_year  released_month  released_day  in_spotify_playlists  \\\n",
       "0             2023               7            14                   553   \n",
       "1             2023               3            23                  1474   \n",
       "2             2023               6            30                  1397   \n",
       "3             2019               8            23                  7858   \n",
       "4             2023               5            18                  3133   \n",
       "..             ...             ...           ...                   ...   \n",
       "948           2022              11             3                   953   \n",
       "949           2022              10            21                  1180   \n",
       "950           2022              11             3                   573   \n",
       "951           2022              10            20                  1320   \n",
       "952           2022              11             4                   782   \n",
       "\n",
       "     in_spotify_charts    streams  in_apple_playlists  ...  bpm key   mode  \\\n",
       "0                  147  141381703                  43  ...  125   B  Major   \n",
       "1                   48  133716286                  48  ...   92  C#  Major   \n",
       "2                  113  140003974                  94  ...  138   F  Major   \n",
       "3                  100  800840817                 116  ...  170   A  Major   \n",
       "4                   50  303236322                  84  ...  144   A  Minor   \n",
       "..                 ...        ...                 ...  ...  ...  ..    ...   \n",
       "948                  0   91473363                  61  ...  144   A  Major   \n",
       "949                  0  121871870                   4  ...  166  F#  Major   \n",
       "950                  0   73513683                   2  ...   92  C#  Major   \n",
       "951                  0  133895612                  29  ...   97  C#  Major   \n",
       "952                  2   96007391                  27  ...   90   E  Minor   \n",
       "\n",
       "    danceability_%  valence_% energy_% acousticness_%  instrumentalness_%  \\\n",
       "0               80         89       83             31                   0   \n",
       "1               71         61       74              7                   0   \n",
       "2               51         32       53             17                   0   \n",
       "3               55         58       72             11                   0   \n",
       "4               65         23       80             14                  63   \n",
       "..             ...        ...      ...            ...                 ...   \n",
       "948             60         24       39             57                   0   \n",
       "949             42          7       24             83                   1   \n",
       "950             80         81       67              4                   0   \n",
       "951             82         67       77              8                   0   \n",
       "952             61         32       67             15                   0   \n",
       "\n",
       "     liveness_%  speechiness_%  \n",
       "0             8              4  \n",
       "1            10              4  \n",
       "2            31              6  \n",
       "3            11             15  \n",
       "4            11              6  \n",
       "..          ...            ...  \n",
       "948           8              3  \n",
       "949          12              6  \n",
       "950           8              6  \n",
       "951          12              5  \n",
       "952          11              5  \n",
       "\n",
       "[953 rows x 24 columns]"
      ]
     },
     "execution_count": 28,
     "metadata": {},
     "output_type": "execute_result"
    }
   ],
   "source": [
    "spotify"
   ]
  },
  {
   "cell_type": "markdown",
   "id": "fc1839ad-bc8c-4a0e-809a-b3df6412c435",
   "metadata": {},
   "source": [
    "#### The dataset contains 953 rows and 24 columns."
   ]
  },
  {
   "cell_type": "markdown",
   "id": "3368ddb8-8fdd-4b68-921d-78dd235d14e3",
   "metadata": {},
   "source": [
    "Next we check for missing values using the `isna()` function."
   ]
  },
  {
   "cell_type": "code",
   "execution_count": 10,
   "id": "69618ca0-317a-4a97-aa76-6beccddf6efa",
   "metadata": {},
   "outputs": [
    {
     "data": {
      "text/html": [
       "<div>\n",
       "<style scoped>\n",
       "    .dataframe tbody tr th:only-of-type {\n",
       "        vertical-align: middle;\n",
       "    }\n",
       "\n",
       "    .dataframe tbody tr th {\n",
       "        vertical-align: top;\n",
       "    }\n",
       "\n",
       "    .dataframe thead th {\n",
       "        text-align: right;\n",
       "    }\n",
       "</style>\n",
       "<table border=\"1\" class=\"dataframe\">\n",
       "  <thead>\n",
       "    <tr style=\"text-align: right;\">\n",
       "      <th></th>\n",
       "      <th>track_name</th>\n",
       "      <th>artist(s)_name</th>\n",
       "      <th>artist_count</th>\n",
       "      <th>released_year</th>\n",
       "      <th>released_month</th>\n",
       "      <th>released_day</th>\n",
       "      <th>in_spotify_playlists</th>\n",
       "      <th>in_spotify_charts</th>\n",
       "      <th>streams</th>\n",
       "      <th>in_apple_playlists</th>\n",
       "      <th>...</th>\n",
       "      <th>bpm</th>\n",
       "      <th>key</th>\n",
       "      <th>mode</th>\n",
       "      <th>danceability_%</th>\n",
       "      <th>valence_%</th>\n",
       "      <th>energy_%</th>\n",
       "      <th>acousticness_%</th>\n",
       "      <th>instrumentalness_%</th>\n",
       "      <th>liveness_%</th>\n",
       "      <th>speechiness_%</th>\n",
       "    </tr>\n",
       "  </thead>\n",
       "  <tbody>\n",
       "    <tr>\n",
       "      <th>0</th>\n",
       "      <td>False</td>\n",
       "      <td>False</td>\n",
       "      <td>False</td>\n",
       "      <td>False</td>\n",
       "      <td>False</td>\n",
       "      <td>False</td>\n",
       "      <td>False</td>\n",
       "      <td>False</td>\n",
       "      <td>False</td>\n",
       "      <td>False</td>\n",
       "      <td>...</td>\n",
       "      <td>False</td>\n",
       "      <td>False</td>\n",
       "      <td>False</td>\n",
       "      <td>False</td>\n",
       "      <td>False</td>\n",
       "      <td>False</td>\n",
       "      <td>False</td>\n",
       "      <td>False</td>\n",
       "      <td>False</td>\n",
       "      <td>False</td>\n",
       "    </tr>\n",
       "    <tr>\n",
       "      <th>1</th>\n",
       "      <td>False</td>\n",
       "      <td>False</td>\n",
       "      <td>False</td>\n",
       "      <td>False</td>\n",
       "      <td>False</td>\n",
       "      <td>False</td>\n",
       "      <td>False</td>\n",
       "      <td>False</td>\n",
       "      <td>False</td>\n",
       "      <td>False</td>\n",
       "      <td>...</td>\n",
       "      <td>False</td>\n",
       "      <td>False</td>\n",
       "      <td>False</td>\n",
       "      <td>False</td>\n",
       "      <td>False</td>\n",
       "      <td>False</td>\n",
       "      <td>False</td>\n",
       "      <td>False</td>\n",
       "      <td>False</td>\n",
       "      <td>False</td>\n",
       "    </tr>\n",
       "    <tr>\n",
       "      <th>2</th>\n",
       "      <td>False</td>\n",
       "      <td>False</td>\n",
       "      <td>False</td>\n",
       "      <td>False</td>\n",
       "      <td>False</td>\n",
       "      <td>False</td>\n",
       "      <td>False</td>\n",
       "      <td>False</td>\n",
       "      <td>False</td>\n",
       "      <td>False</td>\n",
       "      <td>...</td>\n",
       "      <td>False</td>\n",
       "      <td>False</td>\n",
       "      <td>False</td>\n",
       "      <td>False</td>\n",
       "      <td>False</td>\n",
       "      <td>False</td>\n",
       "      <td>False</td>\n",
       "      <td>False</td>\n",
       "      <td>False</td>\n",
       "      <td>False</td>\n",
       "    </tr>\n",
       "    <tr>\n",
       "      <th>3</th>\n",
       "      <td>False</td>\n",
       "      <td>False</td>\n",
       "      <td>False</td>\n",
       "      <td>False</td>\n",
       "      <td>False</td>\n",
       "      <td>False</td>\n",
       "      <td>False</td>\n",
       "      <td>False</td>\n",
       "      <td>False</td>\n",
       "      <td>False</td>\n",
       "      <td>...</td>\n",
       "      <td>False</td>\n",
       "      <td>False</td>\n",
       "      <td>False</td>\n",
       "      <td>False</td>\n",
       "      <td>False</td>\n",
       "      <td>False</td>\n",
       "      <td>False</td>\n",
       "      <td>False</td>\n",
       "      <td>False</td>\n",
       "      <td>False</td>\n",
       "    </tr>\n",
       "    <tr>\n",
       "      <th>4</th>\n",
       "      <td>False</td>\n",
       "      <td>False</td>\n",
       "      <td>False</td>\n",
       "      <td>False</td>\n",
       "      <td>False</td>\n",
       "      <td>False</td>\n",
       "      <td>False</td>\n",
       "      <td>False</td>\n",
       "      <td>False</td>\n",
       "      <td>False</td>\n",
       "      <td>...</td>\n",
       "      <td>False</td>\n",
       "      <td>False</td>\n",
       "      <td>False</td>\n",
       "      <td>False</td>\n",
       "      <td>False</td>\n",
       "      <td>False</td>\n",
       "      <td>False</td>\n",
       "      <td>False</td>\n",
       "      <td>False</td>\n",
       "      <td>False</td>\n",
       "    </tr>\n",
       "    <tr>\n",
       "      <th>...</th>\n",
       "      <td>...</td>\n",
       "      <td>...</td>\n",
       "      <td>...</td>\n",
       "      <td>...</td>\n",
       "      <td>...</td>\n",
       "      <td>...</td>\n",
       "      <td>...</td>\n",
       "      <td>...</td>\n",
       "      <td>...</td>\n",
       "      <td>...</td>\n",
       "      <td>...</td>\n",
       "      <td>...</td>\n",
       "      <td>...</td>\n",
       "      <td>...</td>\n",
       "      <td>...</td>\n",
       "      <td>...</td>\n",
       "      <td>...</td>\n",
       "      <td>...</td>\n",
       "      <td>...</td>\n",
       "      <td>...</td>\n",
       "      <td>...</td>\n",
       "    </tr>\n",
       "    <tr>\n",
       "      <th>948</th>\n",
       "      <td>False</td>\n",
       "      <td>False</td>\n",
       "      <td>False</td>\n",
       "      <td>False</td>\n",
       "      <td>False</td>\n",
       "      <td>False</td>\n",
       "      <td>False</td>\n",
       "      <td>False</td>\n",
       "      <td>False</td>\n",
       "      <td>False</td>\n",
       "      <td>...</td>\n",
       "      <td>False</td>\n",
       "      <td>False</td>\n",
       "      <td>False</td>\n",
       "      <td>False</td>\n",
       "      <td>False</td>\n",
       "      <td>False</td>\n",
       "      <td>False</td>\n",
       "      <td>False</td>\n",
       "      <td>False</td>\n",
       "      <td>False</td>\n",
       "    </tr>\n",
       "    <tr>\n",
       "      <th>949</th>\n",
       "      <td>False</td>\n",
       "      <td>False</td>\n",
       "      <td>False</td>\n",
       "      <td>False</td>\n",
       "      <td>False</td>\n",
       "      <td>False</td>\n",
       "      <td>False</td>\n",
       "      <td>False</td>\n",
       "      <td>False</td>\n",
       "      <td>False</td>\n",
       "      <td>...</td>\n",
       "      <td>False</td>\n",
       "      <td>False</td>\n",
       "      <td>False</td>\n",
       "      <td>False</td>\n",
       "      <td>False</td>\n",
       "      <td>False</td>\n",
       "      <td>False</td>\n",
       "      <td>False</td>\n",
       "      <td>False</td>\n",
       "      <td>False</td>\n",
       "    </tr>\n",
       "    <tr>\n",
       "      <th>950</th>\n",
       "      <td>False</td>\n",
       "      <td>False</td>\n",
       "      <td>False</td>\n",
       "      <td>False</td>\n",
       "      <td>False</td>\n",
       "      <td>False</td>\n",
       "      <td>False</td>\n",
       "      <td>False</td>\n",
       "      <td>False</td>\n",
       "      <td>False</td>\n",
       "      <td>...</td>\n",
       "      <td>False</td>\n",
       "      <td>False</td>\n",
       "      <td>False</td>\n",
       "      <td>False</td>\n",
       "      <td>False</td>\n",
       "      <td>False</td>\n",
       "      <td>False</td>\n",
       "      <td>False</td>\n",
       "      <td>False</td>\n",
       "      <td>False</td>\n",
       "    </tr>\n",
       "    <tr>\n",
       "      <th>951</th>\n",
       "      <td>False</td>\n",
       "      <td>False</td>\n",
       "      <td>False</td>\n",
       "      <td>False</td>\n",
       "      <td>False</td>\n",
       "      <td>False</td>\n",
       "      <td>False</td>\n",
       "      <td>False</td>\n",
       "      <td>False</td>\n",
       "      <td>False</td>\n",
       "      <td>...</td>\n",
       "      <td>False</td>\n",
       "      <td>False</td>\n",
       "      <td>False</td>\n",
       "      <td>False</td>\n",
       "      <td>False</td>\n",
       "      <td>False</td>\n",
       "      <td>False</td>\n",
       "      <td>False</td>\n",
       "      <td>False</td>\n",
       "      <td>False</td>\n",
       "    </tr>\n",
       "    <tr>\n",
       "      <th>952</th>\n",
       "      <td>False</td>\n",
       "      <td>False</td>\n",
       "      <td>False</td>\n",
       "      <td>False</td>\n",
       "      <td>False</td>\n",
       "      <td>False</td>\n",
       "      <td>False</td>\n",
       "      <td>False</td>\n",
       "      <td>False</td>\n",
       "      <td>False</td>\n",
       "      <td>...</td>\n",
       "      <td>False</td>\n",
       "      <td>False</td>\n",
       "      <td>False</td>\n",
       "      <td>False</td>\n",
       "      <td>False</td>\n",
       "      <td>False</td>\n",
       "      <td>False</td>\n",
       "      <td>False</td>\n",
       "      <td>False</td>\n",
       "      <td>False</td>\n",
       "    </tr>\n",
       "  </tbody>\n",
       "</table>\n",
       "<p>953 rows × 24 columns</p>\n",
       "</div>"
      ],
      "text/plain": [
       "     track_name  artist(s)_name  artist_count  released_year  released_month  \\\n",
       "0         False           False         False          False           False   \n",
       "1         False           False         False          False           False   \n",
       "2         False           False         False          False           False   \n",
       "3         False           False         False          False           False   \n",
       "4         False           False         False          False           False   \n",
       "..          ...             ...           ...            ...             ...   \n",
       "948       False           False         False          False           False   \n",
       "949       False           False         False          False           False   \n",
       "950       False           False         False          False           False   \n",
       "951       False           False         False          False           False   \n",
       "952       False           False         False          False           False   \n",
       "\n",
       "     released_day  in_spotify_playlists  in_spotify_charts  streams  \\\n",
       "0           False                 False              False    False   \n",
       "1           False                 False              False    False   \n",
       "2           False                 False              False    False   \n",
       "3           False                 False              False    False   \n",
       "4           False                 False              False    False   \n",
       "..            ...                   ...                ...      ...   \n",
       "948         False                 False              False    False   \n",
       "949         False                 False              False    False   \n",
       "950         False                 False              False    False   \n",
       "951         False                 False              False    False   \n",
       "952         False                 False              False    False   \n",
       "\n",
       "     in_apple_playlists  ...    bpm    key   mode  danceability_%  valence_%  \\\n",
       "0                 False  ...  False  False  False           False      False   \n",
       "1                 False  ...  False  False  False           False      False   \n",
       "2                 False  ...  False  False  False           False      False   \n",
       "3                 False  ...  False  False  False           False      False   \n",
       "4                 False  ...  False  False  False           False      False   \n",
       "..                  ...  ...    ...    ...    ...             ...        ...   \n",
       "948               False  ...  False  False  False           False      False   \n",
       "949               False  ...  False  False  False           False      False   \n",
       "950               False  ...  False  False  False           False      False   \n",
       "951               False  ...  False  False  False           False      False   \n",
       "952               False  ...  False  False  False           False      False   \n",
       "\n",
       "     energy_%  acousticness_%  instrumentalness_%  liveness_%  speechiness_%  \n",
       "0       False           False               False       False          False  \n",
       "1       False           False               False       False          False  \n",
       "2       False           False               False       False          False  \n",
       "3       False           False               False       False          False  \n",
       "4       False           False               False       False          False  \n",
       "..        ...             ...                 ...         ...            ...  \n",
       "948     False           False               False       False          False  \n",
       "949     False           False               False       False          False  \n",
       "950     False           False               False       False          False  \n",
       "951     False           False               False       False          False  \n",
       "952     False           False               False       False          False  \n",
       "\n",
       "[953 rows x 24 columns]"
      ]
     },
     "execution_count": 10,
     "metadata": {},
     "output_type": "execute_result"
    }
   ],
   "source": [
    "spotify.isna()"
   ]
  },
  {
   "cell_type": "markdown",
   "id": "142fb7fb-8c80-4dcc-b751-fe84f100c7bd",
   "metadata": {},
   "source": [
    "Now that the dataset only contains two values: False and True, or 0 and 1, we can use the `sum()` function to see how many missing values each columns have."
   ]
  },
  {
   "cell_type": "code",
   "execution_count": 12,
   "id": "c9b362c8-92fa-4c7e-93ac-c92a2ee77cc3",
   "metadata": {},
   "outputs": [
    {
     "data": {
      "text/plain": [
       "track_name               0\n",
       "artist(s)_name           0\n",
       "artist_count             0\n",
       "released_year            0\n",
       "released_month           0\n",
       "released_day             0\n",
       "in_spotify_playlists     0\n",
       "in_spotify_charts        0\n",
       "streams                  0\n",
       "in_apple_playlists       0\n",
       "in_apple_charts          0\n",
       "in_deezer_playlists      0\n",
       "in_deezer_charts         0\n",
       "in_shazam_charts        50\n",
       "bpm                      0\n",
       "key                     95\n",
       "mode                     0\n",
       "danceability_%           0\n",
       "valence_%                0\n",
       "energy_%                 0\n",
       "acousticness_%           0\n",
       "instrumentalness_%       0\n",
       "liveness_%               0\n",
       "speechiness_%            0\n",
       "dtype: int64"
      ]
     },
     "execution_count": 12,
     "metadata": {},
     "output_type": "execute_result"
    }
   ],
   "source": [
    "spotify.isna().sum()"
   ]
  },
  {
   "cell_type": "markdown",
   "id": "41ab394d-f694-4c2a-8026-e2ac1fe1cc91",
   "metadata": {},
   "source": [
    "#### From here we can see that there are 50 missing values in the column `in_shazam_charts` and 95 missing values in the `key` column."
   ]
  },
  {
   "cell_type": "markdown",
   "id": "764d8b6f-b1bc-4dfd-8a52-c44d2d5196cc",
   "metadata": {},
   "source": [
    "# Basic Descriptive Statistics"
   ]
  },
  {
   "cell_type": "code",
   "execution_count": 38,
   "id": "dbdcc091-b123-442a-945d-16fb86ab36e7",
   "metadata": {},
   "outputs": [
    {
     "data": {
      "text/html": [
       "<div>\n",
       "<style scoped>\n",
       "    .dataframe tbody tr th:only-of-type {\n",
       "        vertical-align: middle;\n",
       "    }\n",
       "\n",
       "    .dataframe tbody tr th {\n",
       "        vertical-align: top;\n",
       "    }\n",
       "\n",
       "    .dataframe thead th {\n",
       "        text-align: right;\n",
       "    }\n",
       "</style>\n",
       "<table border=\"1\" class=\"dataframe\">\n",
       "  <thead>\n",
       "    <tr style=\"text-align: right;\">\n",
       "      <th></th>\n",
       "      <th>track_name</th>\n",
       "      <th>artist(s)_name</th>\n",
       "      <th>artist_count</th>\n",
       "      <th>released_year</th>\n",
       "      <th>released_month</th>\n",
       "      <th>released_day</th>\n",
       "      <th>in_spotify_playlists</th>\n",
       "      <th>in_spotify_charts</th>\n",
       "      <th>streams</th>\n",
       "      <th>in_apple_playlists</th>\n",
       "      <th>...</th>\n",
       "      <th>bpm</th>\n",
       "      <th>key</th>\n",
       "      <th>mode</th>\n",
       "      <th>danceability_%</th>\n",
       "      <th>valence_%</th>\n",
       "      <th>energy_%</th>\n",
       "      <th>acousticness_%</th>\n",
       "      <th>instrumentalness_%</th>\n",
       "      <th>liveness_%</th>\n",
       "      <th>speechiness_%</th>\n",
       "    </tr>\n",
       "  </thead>\n",
       "  <tbody>\n",
       "    <tr>\n",
       "      <th>0</th>\n",
       "      <td>Seven (feat. Latto) (Explicit Ver.)</td>\n",
       "      <td>Latto, Jung Kook</td>\n",
       "      <td>2</td>\n",
       "      <td>2023</td>\n",
       "      <td>7</td>\n",
       "      <td>14</td>\n",
       "      <td>553</td>\n",
       "      <td>147</td>\n",
       "      <td>141381703</td>\n",
       "      <td>43</td>\n",
       "      <td>...</td>\n",
       "      <td>125</td>\n",
       "      <td>B</td>\n",
       "      <td>Major</td>\n",
       "      <td>80</td>\n",
       "      <td>89</td>\n",
       "      <td>83</td>\n",
       "      <td>31</td>\n",
       "      <td>0</td>\n",
       "      <td>8</td>\n",
       "      <td>4</td>\n",
       "    </tr>\n",
       "    <tr>\n",
       "      <th>1</th>\n",
       "      <td>LALA</td>\n",
       "      <td>Myke Towers</td>\n",
       "      <td>1</td>\n",
       "      <td>2023</td>\n",
       "      <td>3</td>\n",
       "      <td>23</td>\n",
       "      <td>1474</td>\n",
       "      <td>48</td>\n",
       "      <td>133716286</td>\n",
       "      <td>48</td>\n",
       "      <td>...</td>\n",
       "      <td>92</td>\n",
       "      <td>C#</td>\n",
       "      <td>Major</td>\n",
       "      <td>71</td>\n",
       "      <td>61</td>\n",
       "      <td>74</td>\n",
       "      <td>7</td>\n",
       "      <td>0</td>\n",
       "      <td>10</td>\n",
       "      <td>4</td>\n",
       "    </tr>\n",
       "    <tr>\n",
       "      <th>2</th>\n",
       "      <td>vampire</td>\n",
       "      <td>Olivia Rodrigo</td>\n",
       "      <td>1</td>\n",
       "      <td>2023</td>\n",
       "      <td>6</td>\n",
       "      <td>30</td>\n",
       "      <td>1397</td>\n",
       "      <td>113</td>\n",
       "      <td>140003974</td>\n",
       "      <td>94</td>\n",
       "      <td>...</td>\n",
       "      <td>138</td>\n",
       "      <td>F</td>\n",
       "      <td>Major</td>\n",
       "      <td>51</td>\n",
       "      <td>32</td>\n",
       "      <td>53</td>\n",
       "      <td>17</td>\n",
       "      <td>0</td>\n",
       "      <td>31</td>\n",
       "      <td>6</td>\n",
       "    </tr>\n",
       "    <tr>\n",
       "      <th>3</th>\n",
       "      <td>Cruel Summer</td>\n",
       "      <td>Taylor Swift</td>\n",
       "      <td>1</td>\n",
       "      <td>2019</td>\n",
       "      <td>8</td>\n",
       "      <td>23</td>\n",
       "      <td>7858</td>\n",
       "      <td>100</td>\n",
       "      <td>800840817</td>\n",
       "      <td>116</td>\n",
       "      <td>...</td>\n",
       "      <td>170</td>\n",
       "      <td>A</td>\n",
       "      <td>Major</td>\n",
       "      <td>55</td>\n",
       "      <td>58</td>\n",
       "      <td>72</td>\n",
       "      <td>11</td>\n",
       "      <td>0</td>\n",
       "      <td>11</td>\n",
       "      <td>15</td>\n",
       "    </tr>\n",
       "    <tr>\n",
       "      <th>4</th>\n",
       "      <td>WHERE SHE GOES</td>\n",
       "      <td>Bad Bunny</td>\n",
       "      <td>1</td>\n",
       "      <td>2023</td>\n",
       "      <td>5</td>\n",
       "      <td>18</td>\n",
       "      <td>3133</td>\n",
       "      <td>50</td>\n",
       "      <td>303236322</td>\n",
       "      <td>84</td>\n",
       "      <td>...</td>\n",
       "      <td>144</td>\n",
       "      <td>A</td>\n",
       "      <td>Minor</td>\n",
       "      <td>65</td>\n",
       "      <td>23</td>\n",
       "      <td>80</td>\n",
       "      <td>14</td>\n",
       "      <td>63</td>\n",
       "      <td>11</td>\n",
       "      <td>6</td>\n",
       "    </tr>\n",
       "    <tr>\n",
       "      <th>...</th>\n",
       "      <td>...</td>\n",
       "      <td>...</td>\n",
       "      <td>...</td>\n",
       "      <td>...</td>\n",
       "      <td>...</td>\n",
       "      <td>...</td>\n",
       "      <td>...</td>\n",
       "      <td>...</td>\n",
       "      <td>...</td>\n",
       "      <td>...</td>\n",
       "      <td>...</td>\n",
       "      <td>...</td>\n",
       "      <td>...</td>\n",
       "      <td>...</td>\n",
       "      <td>...</td>\n",
       "      <td>...</td>\n",
       "      <td>...</td>\n",
       "      <td>...</td>\n",
       "      <td>...</td>\n",
       "      <td>...</td>\n",
       "      <td>...</td>\n",
       "    </tr>\n",
       "    <tr>\n",
       "      <th>948</th>\n",
       "      <td>My Mind &amp; Me</td>\n",
       "      <td>Selena Gomez</td>\n",
       "      <td>1</td>\n",
       "      <td>2022</td>\n",
       "      <td>11</td>\n",
       "      <td>3</td>\n",
       "      <td>953</td>\n",
       "      <td>0</td>\n",
       "      <td>91473363</td>\n",
       "      <td>61</td>\n",
       "      <td>...</td>\n",
       "      <td>144</td>\n",
       "      <td>A</td>\n",
       "      <td>Major</td>\n",
       "      <td>60</td>\n",
       "      <td>24</td>\n",
       "      <td>39</td>\n",
       "      <td>57</td>\n",
       "      <td>0</td>\n",
       "      <td>8</td>\n",
       "      <td>3</td>\n",
       "    </tr>\n",
       "    <tr>\n",
       "      <th>949</th>\n",
       "      <td>Bigger Than The Whole Sky</td>\n",
       "      <td>Taylor Swift</td>\n",
       "      <td>1</td>\n",
       "      <td>2022</td>\n",
       "      <td>10</td>\n",
       "      <td>21</td>\n",
       "      <td>1180</td>\n",
       "      <td>0</td>\n",
       "      <td>121871870</td>\n",
       "      <td>4</td>\n",
       "      <td>...</td>\n",
       "      <td>166</td>\n",
       "      <td>F#</td>\n",
       "      <td>Major</td>\n",
       "      <td>42</td>\n",
       "      <td>7</td>\n",
       "      <td>24</td>\n",
       "      <td>83</td>\n",
       "      <td>1</td>\n",
       "      <td>12</td>\n",
       "      <td>6</td>\n",
       "    </tr>\n",
       "    <tr>\n",
       "      <th>950</th>\n",
       "      <td>A Veces (feat. Feid)</td>\n",
       "      <td>Feid, Paulo Londra</td>\n",
       "      <td>2</td>\n",
       "      <td>2022</td>\n",
       "      <td>11</td>\n",
       "      <td>3</td>\n",
       "      <td>573</td>\n",
       "      <td>0</td>\n",
       "      <td>73513683</td>\n",
       "      <td>2</td>\n",
       "      <td>...</td>\n",
       "      <td>92</td>\n",
       "      <td>C#</td>\n",
       "      <td>Major</td>\n",
       "      <td>80</td>\n",
       "      <td>81</td>\n",
       "      <td>67</td>\n",
       "      <td>4</td>\n",
       "      <td>0</td>\n",
       "      <td>8</td>\n",
       "      <td>6</td>\n",
       "    </tr>\n",
       "    <tr>\n",
       "      <th>951</th>\n",
       "      <td>En La De Ella</td>\n",
       "      <td>Feid, Sech, Jhayco</td>\n",
       "      <td>3</td>\n",
       "      <td>2022</td>\n",
       "      <td>10</td>\n",
       "      <td>20</td>\n",
       "      <td>1320</td>\n",
       "      <td>0</td>\n",
       "      <td>133895612</td>\n",
       "      <td>29</td>\n",
       "      <td>...</td>\n",
       "      <td>97</td>\n",
       "      <td>C#</td>\n",
       "      <td>Major</td>\n",
       "      <td>82</td>\n",
       "      <td>67</td>\n",
       "      <td>77</td>\n",
       "      <td>8</td>\n",
       "      <td>0</td>\n",
       "      <td>12</td>\n",
       "      <td>5</td>\n",
       "    </tr>\n",
       "    <tr>\n",
       "      <th>952</th>\n",
       "      <td>Alone</td>\n",
       "      <td>Burna Boy</td>\n",
       "      <td>1</td>\n",
       "      <td>2022</td>\n",
       "      <td>11</td>\n",
       "      <td>4</td>\n",
       "      <td>782</td>\n",
       "      <td>2</td>\n",
       "      <td>96007391</td>\n",
       "      <td>27</td>\n",
       "      <td>...</td>\n",
       "      <td>90</td>\n",
       "      <td>E</td>\n",
       "      <td>Minor</td>\n",
       "      <td>61</td>\n",
       "      <td>32</td>\n",
       "      <td>67</td>\n",
       "      <td>15</td>\n",
       "      <td>0</td>\n",
       "      <td>11</td>\n",
       "      <td>5</td>\n",
       "    </tr>\n",
       "  </tbody>\n",
       "</table>\n",
       "<p>953 rows × 24 columns</p>\n",
       "</div>"
      ],
      "text/plain": [
       "                              track_name      artist(s)_name  artist_count  \\\n",
       "0    Seven (feat. Latto) (Explicit Ver.)    Latto, Jung Kook             2   \n",
       "1                                   LALA         Myke Towers             1   \n",
       "2                                vampire      Olivia Rodrigo             1   \n",
       "3                           Cruel Summer        Taylor Swift             1   \n",
       "4                         WHERE SHE GOES           Bad Bunny             1   \n",
       "..                                   ...                 ...           ...   \n",
       "948                         My Mind & Me        Selena Gomez             1   \n",
       "949            Bigger Than The Whole Sky        Taylor Swift             1   \n",
       "950                 A Veces (feat. Feid)  Feid, Paulo Londra             2   \n",
       "951                        En La De Ella  Feid, Sech, Jhayco             3   \n",
       "952                                Alone           Burna Boy             1   \n",
       "\n",
       "     released_year  released_month  released_day  in_spotify_playlists  \\\n",
       "0             2023               7            14                   553   \n",
       "1             2023               3            23                  1474   \n",
       "2             2023               6            30                  1397   \n",
       "3             2019               8            23                  7858   \n",
       "4             2023               5            18                  3133   \n",
       "..             ...             ...           ...                   ...   \n",
       "948           2022              11             3                   953   \n",
       "949           2022              10            21                  1180   \n",
       "950           2022              11             3                   573   \n",
       "951           2022              10            20                  1320   \n",
       "952           2022              11             4                   782   \n",
       "\n",
       "     in_spotify_charts    streams  in_apple_playlists  ...  bpm key   mode  \\\n",
       "0                  147  141381703                  43  ...  125   B  Major   \n",
       "1                   48  133716286                  48  ...   92  C#  Major   \n",
       "2                  113  140003974                  94  ...  138   F  Major   \n",
       "3                  100  800840817                 116  ...  170   A  Major   \n",
       "4                   50  303236322                  84  ...  144   A  Minor   \n",
       "..                 ...        ...                 ...  ...  ...  ..    ...   \n",
       "948                  0   91473363                  61  ...  144   A  Major   \n",
       "949                  0  121871870                   4  ...  166  F#  Major   \n",
       "950                  0   73513683                   2  ...   92  C#  Major   \n",
       "951                  0  133895612                  29  ...   97  C#  Major   \n",
       "952                  2   96007391                  27  ...   90   E  Minor   \n",
       "\n",
       "    danceability_%  valence_% energy_% acousticness_%  instrumentalness_%  \\\n",
       "0               80         89       83             31                   0   \n",
       "1               71         61       74              7                   0   \n",
       "2               51         32       53             17                   0   \n",
       "3               55         58       72             11                   0   \n",
       "4               65         23       80             14                  63   \n",
       "..             ...        ...      ...            ...                 ...   \n",
       "948             60         24       39             57                   0   \n",
       "949             42          7       24             83                   1   \n",
       "950             80         81       67              4                   0   \n",
       "951             82         67       77              8                   0   \n",
       "952             61         32       67             15                   0   \n",
       "\n",
       "     liveness_%  speechiness_%  \n",
       "0             8              4  \n",
       "1            10              4  \n",
       "2            31              6  \n",
       "3            11             15  \n",
       "4            11              6  \n",
       "..          ...            ...  \n",
       "948           8              3  \n",
       "949          12              6  \n",
       "950           8              6  \n",
       "951          12              5  \n",
       "952          11              5  \n",
       "\n",
       "[953 rows x 24 columns]"
      ]
     },
     "execution_count": 38,
     "metadata": {},
     "output_type": "execute_result"
    }
   ],
   "source": [
    "import numpy as np\n",
    "\n",
    "spotify"
   ]
  },
  {
   "cell_type": "markdown",
   "id": "caebb19c-881a-4dbd-aa47-fb117ad0f001",
   "metadata": {},
   "source": [
    "## Mean of the Column `streams`"
   ]
  },
  {
   "cell_type": "markdown",
   "id": "477aa18c-a8cf-4259-9f13-dfe173fb91ce",
   "metadata": {},
   "source": [
    "Simply using the `.mean()` function would not work as the `streams` column from the data set are considered strings. "
   ]
  },
  {
   "cell_type": "markdown",
   "id": "528e5f72-dffe-4cab-9c76-5566940b958b",
   "metadata": {},
   "source": [
    "#### We convert the values in the `streams`column into numeric data so that we can perform data analysis on it. "
   ]
  },
  {
   "cell_type": "markdown",
   "id": "71ac80e5-0b6c-4539-a6d8-6d62ab0b0833",
   "metadata": {},
   "source": [
    "Using the `to_numeric()` function, we can convert the string values of the `streams` column into numeric data."
   ]
  },
  {
   "cell_type": "code",
   "execution_count": 99,
   "id": "f11275e9-5e9a-44c9-9266-78fcf3938244",
   "metadata": {
    "scrolled": true
   },
   "outputs": [],
   "source": [
    "spotify['streams'] = pd.to_numeric(spotify['streams'], errors='coerce')"
   ]
  },
  {
   "cell_type": "code",
   "execution_count": 101,
   "id": "feee23de-d6a6-49f6-b887-e00868566972",
   "metadata": {},
   "outputs": [
    {
     "data": {
      "text/plain": [
       "514137424.93907565"
      ]
     },
     "execution_count": 101,
     "metadata": {},
     "output_type": "execute_result"
    }
   ],
   "source": [
    "spotify['streams'].mean()"
   ]
  },
  {
   "cell_type": "markdown",
   "id": "7e4c0394-5f9f-4bcb-a8ef-ee05a9ac55cc",
   "metadata": {},
   "source": [
    "#### The mean of the column `streams` from the data set is `514,137,424.94`."
   ]
  },
  {
   "cell_type": "markdown",
   "id": "b168d351-be41-4468-9920-6b08597b9c46",
   "metadata": {},
   "source": [
    "## Median of the Column `streams`"
   ]
  },
  {
   "cell_type": "code",
   "execution_count": 132,
   "id": "b3051ea8-2e5c-4615-9c96-e7c4107d88a5",
   "metadata": {},
   "outputs": [
    {
     "data": {
      "text/plain": [
       "290530915.0"
      ]
     },
     "execution_count": 132,
     "metadata": {},
     "output_type": "execute_result"
    }
   ],
   "source": [
    "spotify['streams'].median()"
   ]
  },
  {
   "cell_type": "markdown",
   "id": "e2228900-761a-4045-ad58-0c673acb3c69",
   "metadata": {},
   "source": [
    "#### The median of the column `streams` from the data set is `290,530,915`."
   ]
  },
  {
   "cell_type": "markdown",
   "id": "7f9d56cb-1e10-4113-a413-0cde783d9011",
   "metadata": {},
   "source": [
    "## Standard Deviation of the Column `streams`"
   ]
  },
  {
   "cell_type": "code",
   "execution_count": 143,
   "id": "7a41f5e9-ca10-4640-bef1-cc949014bf8b",
   "metadata": {},
   "outputs": [
    {
     "data": {
      "text/plain": [
       "566856949.0388832"
      ]
     },
     "execution_count": 143,
     "metadata": {},
     "output_type": "execute_result"
    }
   ],
   "source": [
    "spotify['streams'].std()"
   ]
  },
  {
   "cell_type": "markdown",
   "id": "0a8b3ed2-306e-4f44-9063-b0ac88ff3e85",
   "metadata": {},
   "source": [
    "#### The standard deviation of the column `streams` from the data set is `566,856,949.04`."
   ]
  },
  {
   "cell_type": "markdown",
   "id": "790429e9-0718-47a2-9699-83738356fae9",
   "metadata": {},
   "source": [
    "## Released Year and Artist Count Trends and Outliers"
   ]
  },
  {
   "cell_type": "markdown",
   "id": "bf0136c1-b6e2-4ce2-b84e-89d7b7582202",
   "metadata": {},
   "source": [
    "We can analyze what trends and outliers are present within the two columns by creating a line plot."
   ]
  },
  {
   "cell_type": "code",
   "execution_count": 16,
   "id": "67fd78d8-39b2-47aa-9a83-273e0c0d7ae9",
   "metadata": {},
   "outputs": [
    {
     "data": {
      "image/png": "[encoded data removed]",
      "text/plain": [
       "<Figure size 640x480 with 1 Axes>"
      ]
     },
     "metadata": {},
     "output_type": "display_data"
    }
   ],
   "source": [
    "import seaborn as sns\n",
    "import matplotlib.pyplot as plt\n",
    "\n",
    "sns.lineplot(data=spotify, x='released_year', y='artist_count')\n",
    "plt.title(\"Artist Count over Release Year\")\n",
    "plt.show()"
   ]
  },
  {
   "cell_type": "markdown",
   "id": "afb603f8-c084-47fa-8423-9f41d46e61aa",
   "metadata": {},
   "source": [
    "#### Based on the graph we can conclude that during the 1970s, there are a lot of artists in groups of 4. Then for a decade from 1980 to 1990, solo artists were prominent. From the 2000s up until 2023, songs contained on average 2 artists."
   ]
  },
  {
   "cell_type": "markdown",
   "id": "00a890e2-6cfe-4a78-9a44-989103aece23",
   "metadata": {},
   "source": [
    "# Top performers"
   ]
  },
  {
   "cell_type": "markdown",
   "id": "3f151fdd-3ce7-487d-a9eb-988d7bf8145c",
   "metadata": {},
   "source": [
    "## Top 5 most streamed tracks"
   ]
  },
  {
   "cell_type": "markdown",
   "id": "c52d2e78-8a95-4662-9b7f-5e1aecc9c07e",
   "metadata": {},
   "source": [
    "To display the top 5 most streamed tracks, we sort the `streams` column in descending order then use the `head()` function to show the first 5 data."
   ]
  },
  {
   "cell_type": "code",
   "execution_count": 189,
   "id": "4390b3b9-7bcd-42e1-b4fd-4bf3507b0446",
   "metadata": {},
   "outputs": [
    {
     "data": {
      "text/html": [
       "<div>\n",
       "<style scoped>\n",
       "    .dataframe tbody tr th:only-of-type {\n",
       "        vertical-align: middle;\n",
       "    }\n",
       "\n",
       "    .dataframe tbody tr th {\n",
       "        vertical-align: top;\n",
       "    }\n",
       "\n",
       "    .dataframe thead th {\n",
       "        text-align: right;\n",
       "    }\n",
       "</style>\n",
       "<table border=\"1\" class=\"dataframe\">\n",
       "  <thead>\n",
       "    <tr style=\"text-align: right;\">\n",
       "      <th></th>\n",
       "      <th>track_name</th>\n",
       "      <th>artist(s)_name</th>\n",
       "      <th>artist_count</th>\n",
       "      <th>released_year</th>\n",
       "      <th>released_month</th>\n",
       "      <th>released_day</th>\n",
       "      <th>in_spotify_playlists</th>\n",
       "      <th>in_spotify_charts</th>\n",
       "      <th>streams</th>\n",
       "      <th>in_apple_playlists</th>\n",
       "      <th>...</th>\n",
       "      <th>bpm</th>\n",
       "      <th>key</th>\n",
       "      <th>mode</th>\n",
       "      <th>danceability_%</th>\n",
       "      <th>valence_%</th>\n",
       "      <th>energy_%</th>\n",
       "      <th>acousticness_%</th>\n",
       "      <th>instrumentalness_%</th>\n",
       "      <th>liveness_%</th>\n",
       "      <th>speechiness_%</th>\n",
       "    </tr>\n",
       "  </thead>\n",
       "  <tbody>\n",
       "    <tr>\n",
       "      <th>55</th>\n",
       "      <td>Blinding Lights</td>\n",
       "      <td>The Weeknd</td>\n",
       "      <td>1</td>\n",
       "      <td>2019</td>\n",
       "      <td>11</td>\n",
       "      <td>29</td>\n",
       "      <td>43899</td>\n",
       "      <td>69</td>\n",
       "      <td>3.703895e+09</td>\n",
       "      <td>672</td>\n",
       "      <td>...</td>\n",
       "      <td>171</td>\n",
       "      <td>C#</td>\n",
       "      <td>Major</td>\n",
       "      <td>50</td>\n",
       "      <td>38</td>\n",
       "      <td>80</td>\n",
       "      <td>0</td>\n",
       "      <td>0</td>\n",
       "      <td>9</td>\n",
       "      <td>7</td>\n",
       "    </tr>\n",
       "    <tr>\n",
       "      <th>179</th>\n",
       "      <td>Shape of You</td>\n",
       "      <td>Ed Sheeran</td>\n",
       "      <td>1</td>\n",
       "      <td>2017</td>\n",
       "      <td>1</td>\n",
       "      <td>6</td>\n",
       "      <td>32181</td>\n",
       "      <td>10</td>\n",
       "      <td>3.562544e+09</td>\n",
       "      <td>33</td>\n",
       "      <td>...</td>\n",
       "      <td>96</td>\n",
       "      <td>C#</td>\n",
       "      <td>Minor</td>\n",
       "      <td>83</td>\n",
       "      <td>93</td>\n",
       "      <td>65</td>\n",
       "      <td>58</td>\n",
       "      <td>0</td>\n",
       "      <td>9</td>\n",
       "      <td>8</td>\n",
       "    </tr>\n",
       "    <tr>\n",
       "      <th>86</th>\n",
       "      <td>Someone You Loved</td>\n",
       "      <td>Lewis Capaldi</td>\n",
       "      <td>1</td>\n",
       "      <td>2018</td>\n",
       "      <td>11</td>\n",
       "      <td>8</td>\n",
       "      <td>17836</td>\n",
       "      <td>53</td>\n",
       "      <td>2.887242e+09</td>\n",
       "      <td>440</td>\n",
       "      <td>...</td>\n",
       "      <td>110</td>\n",
       "      <td>C#</td>\n",
       "      <td>Major</td>\n",
       "      <td>50</td>\n",
       "      <td>45</td>\n",
       "      <td>41</td>\n",
       "      <td>75</td>\n",
       "      <td>0</td>\n",
       "      <td>11</td>\n",
       "      <td>3</td>\n",
       "    </tr>\n",
       "    <tr>\n",
       "      <th>620</th>\n",
       "      <td>Dance Monkey</td>\n",
       "      <td>Tones and I</td>\n",
       "      <td>1</td>\n",
       "      <td>2019</td>\n",
       "      <td>5</td>\n",
       "      <td>10</td>\n",
       "      <td>24529</td>\n",
       "      <td>0</td>\n",
       "      <td>2.864792e+09</td>\n",
       "      <td>533</td>\n",
       "      <td>...</td>\n",
       "      <td>98</td>\n",
       "      <td>F#</td>\n",
       "      <td>Minor</td>\n",
       "      <td>82</td>\n",
       "      <td>54</td>\n",
       "      <td>59</td>\n",
       "      <td>69</td>\n",
       "      <td>0</td>\n",
       "      <td>18</td>\n",
       "      <td>10</td>\n",
       "    </tr>\n",
       "    <tr>\n",
       "      <th>41</th>\n",
       "      <td>Sunflower - Spider-Man: Into the Spider-Verse</td>\n",
       "      <td>Post Malone, Swae Lee</td>\n",
       "      <td>2</td>\n",
       "      <td>2018</td>\n",
       "      <td>10</td>\n",
       "      <td>9</td>\n",
       "      <td>24094</td>\n",
       "      <td>78</td>\n",
       "      <td>2.808097e+09</td>\n",
       "      <td>372</td>\n",
       "      <td>...</td>\n",
       "      <td>90</td>\n",
       "      <td>D</td>\n",
       "      <td>Major</td>\n",
       "      <td>76</td>\n",
       "      <td>91</td>\n",
       "      <td>50</td>\n",
       "      <td>54</td>\n",
       "      <td>0</td>\n",
       "      <td>7</td>\n",
       "      <td>5</td>\n",
       "    </tr>\n",
       "  </tbody>\n",
       "</table>\n",
       "<p>5 rows × 24 columns</p>\n",
       "</div>"
      ],
      "text/plain": [
       "                                        track_name         artist(s)_name  \\\n",
       "55                                 Blinding Lights             The Weeknd   \n",
       "179                                   Shape of You             Ed Sheeran   \n",
       "86                               Someone You Loved          Lewis Capaldi   \n",
       "620                                   Dance Monkey            Tones and I   \n",
       "41   Sunflower - Spider-Man: Into the Spider-Verse  Post Malone, Swae Lee   \n",
       "\n",
       "     artist_count  released_year  released_month  released_day  \\\n",
       "55              1           2019              11            29   \n",
       "179             1           2017               1             6   \n",
       "86              1           2018              11             8   \n",
       "620             1           2019               5            10   \n",
       "41              2           2018              10             9   \n",
       "\n",
       "     in_spotify_playlists  in_spotify_charts       streams  \\\n",
       "55                  43899                 69  3.703895e+09   \n",
       "179                 32181                 10  3.562544e+09   \n",
       "86                  17836                 53  2.887242e+09   \n",
       "620                 24529                  0  2.864792e+09   \n",
       "41                  24094                 78  2.808097e+09   \n",
       "\n",
       "     in_apple_playlists  ...  bpm key   mode danceability_%  valence_%  \\\n",
       "55                  672  ...  171  C#  Major             50         38   \n",
       "179                  33  ...   96  C#  Minor             83         93   \n",
       "86                  440  ...  110  C#  Major             50         45   \n",
       "620                 533  ...   98  F#  Minor             82         54   \n",
       "41                  372  ...   90   D  Major             76         91   \n",
       "\n",
       "    energy_% acousticness_%  instrumentalness_%  liveness_%  speechiness_%  \n",
       "55        80              0                   0           9              7  \n",
       "179       65             58                   0           9              8  \n",
       "86        41             75                   0          11              3  \n",
       "620       59             69                   0          18             10  \n",
       "41        50             54                   0           7              5  \n",
       "\n",
       "[5 rows x 24 columns]"
      ]
     },
     "execution_count": 189,
     "metadata": {},
     "output_type": "execute_result"
    }
   ],
   "source": [
    "topstreams = spotify.sort_values(ascending=False, by=['streams'])\n",
    "\n",
    "topstreams.head()"
   ]
  },
  {
   "cell_type": "markdown",
   "id": "757c0ac0-6bbe-4260-bd2f-065612ef6f2a",
   "metadata": {},
   "source": [
    "We then clean up the data set by removing unnecessary columns"
   ]
  },
  {
   "cell_type": "code",
   "execution_count": 195,
   "id": "237555aa-bb69-45dc-bc5d-572c84a1153a",
   "metadata": {},
   "outputs": [
    {
     "data": {
      "text/html": [
       "<div>\n",
       "<style scoped>\n",
       "    .dataframe tbody tr th:only-of-type {\n",
       "        vertical-align: middle;\n",
       "    }\n",
       "\n",
       "    .dataframe tbody tr th {\n",
       "        vertical-align: top;\n",
       "    }\n",
       "\n",
       "    .dataframe thead th {\n",
       "        text-align: right;\n",
       "    }\n",
       "</style>\n",
       "<table border=\"1\" class=\"dataframe\">\n",
       "  <thead>\n",
       "    <tr style=\"text-align: right;\">\n",
       "      <th></th>\n",
       "      <th>track_name</th>\n",
       "      <th>artist(s)_name</th>\n",
       "      <th>streams</th>\n",
       "    </tr>\n",
       "  </thead>\n",
       "  <tbody>\n",
       "    <tr>\n",
       "      <th>55</th>\n",
       "      <td>Blinding Lights</td>\n",
       "      <td>The Weeknd</td>\n",
       "      <td>3.703895e+09</td>\n",
       "    </tr>\n",
       "    <tr>\n",
       "      <th>179</th>\n",
       "      <td>Shape of You</td>\n",
       "      <td>Ed Sheeran</td>\n",
       "      <td>3.562544e+09</td>\n",
       "    </tr>\n",
       "    <tr>\n",
       "      <th>86</th>\n",
       "      <td>Someone You Loved</td>\n",
       "      <td>Lewis Capaldi</td>\n",
       "      <td>2.887242e+09</td>\n",
       "    </tr>\n",
       "    <tr>\n",
       "      <th>620</th>\n",
       "      <td>Dance Monkey</td>\n",
       "      <td>Tones and I</td>\n",
       "      <td>2.864792e+09</td>\n",
       "    </tr>\n",
       "    <tr>\n",
       "      <th>41</th>\n",
       "      <td>Sunflower - Spider-Man: Into the Spider-Verse</td>\n",
       "      <td>Post Malone, Swae Lee</td>\n",
       "      <td>2.808097e+09</td>\n",
       "    </tr>\n",
       "  </tbody>\n",
       "</table>\n",
       "</div>"
      ],
      "text/plain": [
       "                                        track_name         artist(s)_name  \\\n",
       "55                                 Blinding Lights             The Weeknd   \n",
       "179                                   Shape of You             Ed Sheeran   \n",
       "86                               Someone You Loved          Lewis Capaldi   \n",
       "620                                   Dance Monkey            Tones and I   \n",
       "41   Sunflower - Spider-Man: Into the Spider-Verse  Post Malone, Swae Lee   \n",
       "\n",
       "          streams  \n",
       "55   3.703895e+09  \n",
       "179  3.562544e+09  \n",
       "86   2.887242e+09  \n",
       "620  2.864792e+09  \n",
       "41   2.808097e+09  "
      ]
     },
     "execution_count": 195,
     "metadata": {},
     "output_type": "execute_result"
    }
   ],
   "source": [
    "topstreams.loc[:, ['track_name', 'artist(s)_name', 'streams']].head()"
   ]
  },
  {
   "cell_type": "markdown",
   "id": "57eacfa3-33b2-46cd-9ef5-c178426c13b6",
   "metadata": {},
   "source": [
    "#### We can now see that the top 5 tracks of 2023 are:\n",
    "1. Blinding Lights\n",
    "2. Shape of You\n",
    "3. Someone You Loved\n",
    "4. Dance Monkey\n",
    "5. Sunflower"
   ]
  },
  {
   "cell_type": "markdown",
   "id": "55e8c589-ecf8-4ef8-b6bb-597ce93fa027",
   "metadata": {},
   "source": [
    "## Top 5 most frequent artists"
   ]
  },
  {
   "cell_type": "markdown",
   "id": "421eebab-7f37-47b0-aeb9-eceef37e6984",
   "metadata": {},
   "source": [
    "To find the artist that appears the most in the data set we can use the `value_counts` function. Then use the `head()` function to show the top 5 of the data set."
   ]
  },
  {
   "cell_type": "code",
   "execution_count": 233,
   "id": "ad0cdfd6-794d-4387-8c2e-5c9a5355c4ff",
   "metadata": {},
   "outputs": [
    {
     "data": {
      "text/plain": [
       "artist(s)_name\n",
       "Taylor Swift    34\n",
       "The Weeknd      22\n",
       "Bad Bunny       19\n",
       "SZA             19\n",
       "Harry Styles    17\n",
       "Name: count, dtype: int64"
      ]
     },
     "execution_count": 233,
     "metadata": {},
     "output_type": "execute_result"
    }
   ],
   "source": [
    "topfrequent = spotify['artist(s)_name'].value_counts()\n",
    "\n",
    "topfrequent.head()"
   ]
  },
  {
   "cell_type": "markdown",
   "id": "7ceb959b-0819-41f6-8a95-002c5b46a971",
   "metadata": {},
   "source": [
    "#### We can now see that the top 5 most frequent artists of 2023 are:\n",
    "1. Taylor Swift - 34 times\n",
    "2. The Weeknd - 22 times\n",
    "3. Bad Bunny - 19 times\n",
    "4. SZA - 19 times\n",
    "5. Harry Styles - 17 times"
   ]
  },
  {
   "cell_type": "markdown",
   "id": "b42e467d-45bf-4a78-9ae1-666a2f0f1817",
   "metadata": {},
   "source": [
    "# Temporal Trends"
   ]
  },
  {
   "cell_type": "markdown",
   "id": "06e1a0c4-d602-4763-b1db-7f2d5b4e7c2a",
   "metadata": {},
   "source": [
    "## Tracks released over years"
   ]
  },
  {
   "cell_type": "markdown",
   "id": "882aede7-8a5b-4667-a7ea-f2c730be61e8",
   "metadata": {},
   "source": [
    "We find the frequency of the different years in the `released_year` column by using the `value_counts()` function. THen we create a line plot to show the trends over time."
   ]
  },
  {
   "cell_type": "code",
   "execution_count": 248,
   "id": "328d31e2-3f07-4543-8f32-eb0ace984190",
   "metadata": {},
   "outputs": [
    {
     "data": {
      "image/png": "[encoded data removed]",
      "text/plain": [
       "<Figure size 640x480 with 1 Axes>"
      ]
     },
     "metadata": {},
     "output_type": "display_data"
    }
   ],
   "source": [
    "year_grouped = spotify['released_year'].value_counts()\n",
    "\n",
    "sns.lineplot(x=year_grouped.index, y=year_grouped.values, marker='o')\n",
    "plt.title('Number of Tracks Released By Year')\n",
    "plt.xlabel('Year')\n",
    "plt.ylabel('No. of Tracks')\n",
    "plt.show()"
   ]
  },
  {
   "cell_type": "markdown",
   "id": "ce6d1ebb-dbf7-4d7c-af84-e8c5b915df9e",
   "metadata": {},
   "source": [
    "#### From the graph we can see that tracks released after 2020 appear more frequently than others reaching 400 at its peak. This is could be due to how recency affects people's view on music, with newer tracks gaining more popularity than older ones."
   ]
  },
  {
   "cell_type": "markdown",
   "id": "48ba21b4-a8a7-4f2e-bfaf-af825f22fb41",
   "metadata": {},
   "source": [
    "## Tracks released over months"
   ]
  },
  {
   "cell_type": "markdown",
   "id": "d823a1ab-b074-4061-b230-bbb6ad021b10",
   "metadata": {},
   "source": [
    "Using the similar code we used for the line plot of the tracks by the years, we can do the same for the months. By modifying the number of ticks in the x-axis, we can visualize all the months from 1-12."
   ]
  },
  {
   "cell_type": "code",
   "execution_count": 67,
   "id": "ed12a32e-b2bb-43dd-bb72-6f756e1afe0b",
   "metadata": {},
   "outputs": [
    {
     "data": {
      "image/png": "[encoded data removed]",
      "text/plain": [
       "<Figure size 640x480 with 1 Axes>"
      ]
     },
     "metadata": {},
     "output_type": "display_data"
    }
   ],
   "source": [
    "month_grouped = spotify['released_month'].value_counts()\n",
    "\n",
    "sns.lineplot(x=month_grouped.index, y=month_grouped.values, marker='o').set_xticks([1,2,3,4,5,6,7,8,9,10,11,12])\n",
    "plt.title('Number of Tracks Released By Month')\n",
    "plt.xlabel('Months')\n",
    "plt.ylabel('No. of Tracks')\n",
    "plt.show()"
   ]
  },
  {
   "cell_type": "markdown",
   "id": "a96a5500-5681-44f7-b3d2-0e9f9f084145",
   "metadata": {},
   "source": [
    "#### From the graph we can see that most of the tracks released on the months of January and May made it to the 2023 spotify charts, while tracks released on August rarely made it to the charts."
   ]
  },
  {
   "cell_type": "markdown",
   "id": "143ebcf1-b9e6-485c-a6ac-5f7b849ac84e",
   "metadata": {},
   "source": [
    "# Genre and Music Characteristics"
   ]
  },
  {
   "cell_type": "markdown",
   "id": "8a36f94d-34ab-4158-bc5b-73b98e76eba1",
   "metadata": {},
   "source": [
    "## Correlation of streams with different characteristics"
   ]
  },
  {
   "cell_type": "markdown",
   "id": "0adb55b5-4923-4c69-b419-9ed682d47c87",
   "metadata": {},
   "source": [
    "To find the correlation between the different columns, we can use the `.corr` function which creates a correlation matrix."
   ]
  },
  {
   "cell_type": "code",
   "execution_count": 278,
   "id": "f702f086-d35f-48fa-9a68-f812d93c0237",
   "metadata": {},
   "outputs": [
    {
     "name": "stdout",
     "output_type": "stream",
     "text": [
      "                     streams       bpm  danceability_%  energy_%  valence_%  \\\n",
      "streams             1.000000 -0.002438       -0.105457 -0.026051  -0.040831   \n",
      "bpm                -0.002438  1.000000       -0.147095  0.025794   0.041195   \n",
      "danceability_%     -0.105457 -0.147095        1.000000  0.198095   0.408451   \n",
      "energy_%           -0.026051  0.025794        0.198095  1.000000   0.357612   \n",
      "valence_%          -0.040831  0.041195        0.408451  0.357612   1.000000   \n",
      "acousticness_%     -0.004485 -0.017694       -0.236165 -0.577344  -0.081907   \n",
      "instrumentalness_% -0.044902 -0.001195       -0.089138 -0.038547  -0.132890   \n",
      "liveness_%         -0.048337 -0.000761       -0.077538  0.117302   0.021278   \n",
      "speechiness_%      -0.112333  0.039260        0.184977 -0.004846   0.041081   \n",
      "\n",
      "                    acousticness_%  instrumentalness_%  liveness_%  \\\n",
      "streams                  -0.004485           -0.044902   -0.048337   \n",
      "bpm                      -0.017694           -0.001195   -0.000761   \n",
      "danceability_%           -0.236165           -0.089138   -0.077538   \n",
      "energy_%                 -0.577344           -0.038547    0.117302   \n",
      "valence_%                -0.081907           -0.132890    0.021278   \n",
      "acousticness_%            1.000000            0.042796   -0.050142   \n",
      "instrumentalness_%        0.042796            1.000000   -0.045967   \n",
      "liveness_%               -0.050142           -0.045967    1.000000   \n",
      "speechiness_%            -0.022501           -0.083396   -0.022525   \n",
      "\n",
      "                    speechiness_%  \n",
      "streams                 -0.112333  \n",
      "bpm                      0.039260  \n",
      "danceability_%           0.184977  \n",
      "energy_%                -0.004846  \n",
      "valence_%                0.041081  \n",
      "acousticness_%          -0.022501  \n",
      "instrumentalness_%      -0.083396  \n",
      "liveness_%              -0.022525  \n",
      "speechiness_%            1.000000  \n"
     ]
    }
   ],
   "source": [
    "characteristics = ['streams', 'bpm', 'danceability_%', 'energy_%', 'valence_%', 'acousticness_%','instrumentalness_%','liveness_%', 'speechiness_%']\n",
    "correlation = spotify[characteristics].corr()\n",
    "correlation"
   ]
  },
  {
   "cell_type": "markdown",
   "id": "120e93b7-3db3-40f6-80a9-472eb2b60433",
   "metadata": {},
   "source": [
    "We can then slice the specific characteristics we want to compare."
   ]
  },
  {
   "cell_type": "markdown",
   "id": "38e1f331-17a2-4b97-a563-71bcda5f2c9f",
   "metadata": {},
   "source": [
    "#### Streams and BPM"
   ]
  },
  {
   "cell_type": "code",
   "execution_count": 288,
   "id": "97cc7087-e490-4988-bec0-4bbf0d625d67",
   "metadata": {},
   "outputs": [
    {
     "data": {
      "text/plain": [
       "-0.0024379081382712967"
      ]
     },
     "execution_count": 288,
     "metadata": {},
     "output_type": "execute_result"
    }
   ],
   "source": [
    "correlation.loc['streams', 'bpm']"
   ]
  },
  {
   "cell_type": "markdown",
   "id": "21d35ec4-f62d-4105-8c36-1df322e612c5",
   "metadata": {},
   "source": [
    "#### Streams and Danceability"
   ]
  },
  {
   "cell_type": "code",
   "execution_count": 298,
   "id": "d1a53b22-de6b-4cd8-a37e-e33d9a244ab2",
   "metadata": {},
   "outputs": [
    {
     "data": {
      "text/plain": [
       "-0.10545688369141895"
      ]
     },
     "execution_count": 298,
     "metadata": {},
     "output_type": "execute_result"
    }
   ],
   "source": [
    "correlation.loc['streams', 'danceability_%']"
   ]
  },
  {
   "cell_type": "markdown",
   "id": "fc081865-5190-4e51-bd28-622dbebe09b3",
   "metadata": {},
   "source": [
    "#### Streams and Energy"
   ]
  },
  {
   "cell_type": "code",
   "execution_count": 296,
   "id": "3ded6699-3862-4b5b-8417-4289dd2842cf",
   "metadata": {},
   "outputs": [
    {
     "data": {
      "text/plain": [
       "-0.026051488364249"
      ]
     },
     "execution_count": 296,
     "metadata": {},
     "output_type": "execute_result"
    }
   ],
   "source": [
    "correlation.loc['streams', 'energy_%']"
   ]
  },
  {
   "cell_type": "markdown",
   "id": "98a2f90d-1a62-486e-80ce-a5e68bddebf4",
   "metadata": {},
   "source": [
    "##### Comparing these values, we can see that Danceability correlates to streams more compared to Energy and BPM. However as the value is negative this means that there is an indirect relationship between Daceability and Streams. This means that the higher Danceability the lower the Streams."
   ]
  },
  {
   "cell_type": "markdown",
   "id": "8d163280-4ae0-4a62-8abe-d187525ca601",
   "metadata": {},
   "source": [
    "#### Danceability and Energy"
   ]
  },
  {
   "cell_type": "code",
   "execution_count": 303,
   "id": "dfd71b35-3d78-4363-bb4f-3e29559591c2",
   "metadata": {},
   "outputs": [
    {
     "data": {
      "text/plain": [
       "0.1980948483762567"
      ]
     },
     "execution_count": 303,
     "metadata": {},
     "output_type": "execute_result"
    }
   ],
   "source": [
    "correlation.loc['danceability_%', 'energy_%']"
   ]
  },
  {
   "cell_type": "markdown",
   "id": "a6f46a3c-e3c8-4f7f-896f-ec94f59f2364",
   "metadata": {},
   "source": [
    "##### There seems to be a correlation between danceability and energy albeit small. The more danceable the track the more energy it has."
   ]
  },
  {
   "cell_type": "markdown",
   "id": "c6f1e589-9944-4501-a808-9c7d4738a3e7",
   "metadata": {},
   "source": [
    "#### Valence and Acousticness"
   ]
  },
  {
   "cell_type": "code",
   "execution_count": 305,
   "id": "7e807d40-cf68-435c-a0a6-0fdd49217408",
   "metadata": {},
   "outputs": [
    {
     "data": {
      "text/plain": [
       "-0.08190727483082776"
      ]
     },
     "execution_count": 305,
     "metadata": {},
     "output_type": "execute_result"
    }
   ],
   "source": [
    "correlation.loc['valence_%', 'acousticness_%']"
   ]
  },
  {
   "cell_type": "markdown",
   "id": "4d1b7959-287d-4d89-a552-d3a83a35eb1b",
   "metadata": {},
   "source": [
    "##### There is no noticeable correlation between valence and acousticness as the value is too small to be significant"
   ]
  },
  {
   "cell_type": "markdown",
   "id": "ca2276c5-3178-4f89-ad08-3a97df4f9638",
   "metadata": {},
   "source": [
    "# Platform Popularity"
   ]
  },
  {
   "cell_type": "markdown",
   "id": "3156b729-c8c7-496f-9344-d4739a2060cd",
   "metadata": {},
   "source": [
    "We can find which platform is more popular by getting the sum of each input on each platform."
   ]
  },
  {
   "cell_type": "code",
   "execution_count": 148,
   "id": "88255b8e-86f5-4fb8-b155-e61678a710b5",
   "metadata": {},
   "outputs": [
    {
     "name": "stdout",
     "output_type": "stream",
     "text": [
      "Spotify Playlist: 4955719\n",
      "Spotify Charts: 11445\n",
      "Apple Playlist: 64625\n"
     ]
    }
   ],
   "source": [
    "import pandas as pd\n",
    "\n",
    "spotify_playlists_mean = spotify['in_spotify_playlists'].sum()\n",
    "spotify_charts_mean = spotify['in_spotify_charts'].sum()\n",
    "apple_playlists_mean = spotify['in_apple_playlists'].sum()\n",
    "\n",
    "print(\"Spotify Playlist:\", spotify_playlists_mean)\n",
    "print(\"Spotify Charts:\", spotify_charts_mean)\n",
    "print(\"Apple Playlist:\", apple_playlists_mean)\n"
   ]
  },
  {
   "cell_type": "markdown",
   "id": "8d8304e2-8aaf-4721-bb8d-135205f09c6e",
   "metadata": {},
   "source": [
    "#### From this we can see that Spotify Playlist is the most popular followed by Apple Playlist then Spotify Charts"
   ]
  },
  {
   "cell_type": "markdown",
   "id": "5000daed-1134-4512-9cc7-425d02d2583b",
   "metadata": {},
   "source": [
    "# Advanced Analysis"
   ]
  },
  {
   "cell_type": "markdown",
   "id": "391db1b8-53c3-4a79-aab6-44ce70d5e799",
   "metadata": {},
   "source": [
    "## Key and Mode streams patterns"
   ]
  },
  {
   "cell_type": "markdown",
   "id": "41bc969b-c13f-4b78-863e-2ffb77cabf47",
   "metadata": {},
   "source": [
    "We can see trends in keys and modes by first grouping them and getting the mean of the streams from each."
   ]
  },
  {
   "cell_type": "code",
   "execution_count": 161,
   "id": "eb256f98-dbe2-487b-8262-1619731cca01",
   "metadata": {},
   "outputs": [],
   "source": [
    "key_streams = spotify.groupby('key')['streams'].mean()\n",
    "mode_streams = spotify.groupby('mode')['streams'].mean()"
   ]
  },
  {
   "cell_type": "markdown",
   "id": "4786d40a-a35c-4030-a001-bc0f9ae863eb",
   "metadata": {},
   "source": [
    "Sorting the key streams in descending order we get:"
   ]
  },
  {
   "cell_type": "code",
   "execution_count": 181,
   "id": "cb7dd51d-5685-4e88-8daf-48a19bbc8879",
   "metadata": {},
   "outputs": [
    {
     "data": {
      "text/plain": [
       "key\n",
       "C#    6.042802e+08\n",
       "E     5.774972e+08\n",
       "D#    5.530365e+08\n",
       "A#    5.524754e+08\n",
       "D     5.295256e+08\n",
       "F#    5.223632e+08\n",
       "B     5.193480e+08\n",
       "G#    4.769119e+08\n",
       "F     4.684464e+08\n",
       "G     4.525994e+08\n",
       "A     4.088414e+08\n",
       "Name: streams, dtype: float64"
      ]
     },
     "execution_count": 181,
     "metadata": {},
     "output_type": "execute_result"
    }
   ],
   "source": [
    "key_streams.sort_values(ascending=False)"
   ]
  },
  {
   "cell_type": "markdown",
   "id": "b709e3d0-f339-4983-8e8c-d4459c79b20b",
   "metadata": {},
   "source": [
    "#### We can see that tracks in the C# key made it in spotify's top list in 2023 more frequently than tracks on other keys"
   ]
  },
  {
   "cell_type": "markdown",
   "id": "aa57c623-bb5d-4e6e-92f9-3d036b16f5ec",
   "metadata": {},
   "source": [
    "Sorting the mode streams in descending order we get:"
   ]
  },
  {
   "cell_type": "code",
   "execution_count": 159,
   "id": "ce83cf2b-f72b-4e0a-9fb7-fd156f12e811",
   "metadata": {},
   "outputs": [
    {
     "name": "stdout",
     "output_type": "stream",
     "text": [
      "mode\n",
      "Major    5.348328e+08\n",
      "Minor    4.859445e+08\n",
      "Name: streams, dtype: float64\n"
     ]
    }
   ],
   "source": [
    "print(mode_streams)"
   ]
  },
  {
   "cell_type": "markdown",
   "id": "2ed0e142-0591-4fa5-99b7-fe64958c9e28",
   "metadata": {},
   "source": [
    "#### We can see that tracks with the mode Major made it in spotify's top list in 2023 more frequently than tracks with the mode Minor"
   ]
  },
  {
   "cell_type": "markdown",
   "id": "b3f030ed-9715-43d5-ac53-7f5738334304",
   "metadata": {},
   "source": [
    "## Most frequently appearing artists on playlists"
   ]
  },
  {
   "cell_type": "markdown",
   "id": "17230d94-e67e-45e5-8755-9315690b82f6",
   "metadata": {},
   "source": [
    "To find the most frequently appearing artist on each playlist, we need to find the frequency of each artist on the playlists. We can use the `value_counts()` function again for this."
   ]
  },
  {
   "cell_type": "code",
   "execution_count": 237,
   "id": "91580ffa-ccfd-496e-931e-3385eb924b1e",
   "metadata": {},
   "outputs": [],
   "source": [
    "spotify_playlist = spotify[spotify['in_spotify_playlists']>0]['artist(s)_name'].value_counts()\n",
    "spotify_chart = spotify[spotify['in_spotify_charts']>0]['artist(s)_name'].value_counts()\n",
    "apple_playlist = spotify[spotify['in_apple_playlists']>0]['artist(s)_name'].value_counts()\n",
    "apple_chart = spotify[spotify['in_apple_charts']>0]['artist(s)_name'].value_counts()"
   ]
  },
  {
   "cell_type": "markdown",
   "id": "654ce2e7-a82b-4091-9741-3b99871dfcb0",
   "metadata": {},
   "source": [
    "To exclude tracks that are not present in the playlist, we can sort it so that anything >0 is filtered out."
   ]
  },
  {
   "cell_type": "markdown",
   "id": "e7df2c56-5aec-4ec1-a389-6cb0bdd0479d",
   "metadata": {},
   "source": [
    "#### Spotify Playlist"
   ]
  },
  {
   "cell_type": "code",
   "execution_count": 258,
   "id": "2abad435-1bbe-4f0d-9292-f4f945f19a33",
   "metadata": {},
   "outputs": [
    {
     "name": "stdout",
     "output_type": "stream",
     "text": [
      "Spotify Playlist\n",
      "artist(s)_name\n",
      "Taylor Swift    34\n",
      "The Weeknd      22\n",
      "Bad Bunny       19\n",
      "SZA             19\n",
      "Harry Styles    17\n",
      "Name: count, dtype: int64\n"
     ]
    }
   ],
   "source": [
    "print(\"Spotify Playlist\")\n",
    "print(spotify_playlist.head())"
   ]
  },
  {
   "cell_type": "markdown",
   "id": "dbd23f34-e95d-4821-83ae-c0710908d340",
   "metadata": {},
   "source": [
    "#### Spotify Charts"
   ]
  },
  {
   "cell_type": "code",
   "execution_count": 260,
   "id": "db239700-0762-4e27-9e4f-5b5d429f367b",
   "metadata": {},
   "outputs": [
    {
     "name": "stdout",
     "output_type": "stream",
     "text": [
      "Spotify Charts\n",
      "artist(s)_name\n",
      "Taylor Swift    22\n",
      "Bad Bunny       12\n",
      "Harry Styles    10\n",
      "The Weeknd       8\n",
      "Feid             7\n",
      "Name: count, dtype: int64\n"
     ]
    }
   ],
   "source": [
    "print(\"Spotify Charts\")\n",
    "print(spotify_chart.head())"
   ]
  },
  {
   "cell_type": "markdown",
   "id": "d2969b44-bcdd-49a6-bb4d-564012506ae0",
   "metadata": {},
   "source": [
    "#### Apple Playlists"
   ]
  },
  {
   "cell_type": "code",
   "execution_count": 262,
   "id": "5b2065e1-eff2-43c9-b581-5727874ee84a",
   "metadata": {},
   "outputs": [
    {
     "name": "stdout",
     "output_type": "stream",
     "text": [
      "Apple Playlists\n",
      "artist(s)_name\n",
      "Taylor Swift    34\n",
      "The Weeknd      20\n",
      "Bad Bunny       19\n",
      "SZA             18\n",
      "Harry Styles    17\n",
      "Name: count, dtype: int64\n"
     ]
    }
   ],
   "source": [
    "print(\"Apple Playlists\")\n",
    "print(apple_playlist.head())"
   ]
  },
  {
   "cell_type": "markdown",
   "id": "f7143dea-ce68-4afa-8293-52d5e6a97afe",
   "metadata": {},
   "source": [
    "#### Apple Charts"
   ]
  },
  {
   "cell_type": "code",
   "execution_count": 264,
   "id": "94a554af-6f59-4083-9ba1-aa2463316ddf",
   "metadata": {},
   "outputs": [
    {
     "name": "stdout",
     "output_type": "stream",
     "text": [
      "Apple Charts\n",
      "artist(s)_name\n",
      "Taylor Swift    33\n",
      "The Weeknd      22\n",
      "Bad Bunny       19\n",
      "SZA             19\n",
      "Harry Styles    17\n",
      "Name: count, dtype: int64\n"
     ]
    }
   ],
   "source": [
    "print(\"Apple Charts\")\n",
    "print(apple_chart.head())"
   ]
  }
 ],
 "metadata": {
  "kernelspec": {
   "display_name": "Python 3 (ipykernel)",
   "language": "python",
   "name": "python3"
  },
  "language_info": {
   "codemirror_mode": {
    "name": "ipython",
    "version": 3
   },
   "file_extension": ".py",
   "mimetype": "text/x-python",
   "name": "python",
   "nbconvert_exporter": "python",
   "pygments_lexer": "ipython3",
   "version": "3.12.4"
  }
 },
 "nbformat": 4,
 "nbformat_minor": 5
}
